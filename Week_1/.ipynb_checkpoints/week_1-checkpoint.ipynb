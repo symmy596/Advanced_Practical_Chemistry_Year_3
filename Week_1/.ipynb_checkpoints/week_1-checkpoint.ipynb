{
 "cells": [
  {
   "cell_type": "code",
   "execution_count": null,
   "metadata": {
    "collapsed": true
   },
   "outputs": [],
   "source": [
    "import subprocess\n",
    "import os, sys"
   ]
  },
  {
   "cell_type": "code",
   "execution_count": null,
   "metadata": {
    "collapsed": true
   },
   "outputs": [],
   "source": [
    "# Test polypy install\n",
    "import polypy"
   ]
  },
  {
   "cell_type": "code",
   "execution_count": null,
   "metadata": {
    "collapsed": true
   },
   "outputs": [],
   "source": [
    "# Test scipy install\n",
    "import scipy"
   ]
  },
  {
   "cell_type": "code",
   "execution_count": null,
   "metadata": {
    "collapsed": true
   },
   "outputs": [],
   "source": [
    "# Test pylj install\n",
    "import pylj"
   ]
  },
  {
   "cell_type": "code",
   "execution_count": null,
   "metadata": {
    "collapsed": true
   },
   "outputs": [],
   "source": [
    "# sets the current working directory (cwd) to the Week_1 directory\n",
    "cwd = os.getcwd()\n",
    "print(cwd)"
   ]
  },
  {
   "cell_type": "markdown",
   "metadata": {},
   "source": [
    "# Aim and Objectives #\n",
    "\n",
    "The **Aim** of this week's exercise is to introduce molecular dynamics for atomistic simulation.\n",
    "\n",
    "The **first objective** is to make sure that the programmes we need are correctly installed.\n",
    "\n",
    "The **second objective** is to carry out molecular dynamics (MD) simulations of generated structures of simple materials using a package called <code>DL_POLY</code>.\n",
    "\n",
    "By the end of this task you will be able to:\n",
    "\n",
    "1. \t**Perform** molecular dynamics simulations at different temperatures\n",
    "2. \t**Manipulate** the input files\n",
    "3. \t**Adjust** the ensemble for the simulation\n",
    "4.\t**Examine** the volume and energy of different simulations\n",
    "5.\t**Apply** <code>VMD</code> to visualize the simulation cell and evaluate radial distribution coefficients\n",
    "\n",
    "\n",
    "**PLEASE NOTE** \n",
    "\n",
    "Most of the instructions should be performed within this Notebook. However, some have to be executed on your own machine."
   ]
  },
  {
   "cell_type": "markdown",
   "metadata": {},
   "source": [
    "# 1. Testing #\n",
    "\n",
    "Before we can run some MD simulations, we first need to check whether the programs we are using (**<code>Metadise_Test</code>** and **<code>DL_POLY</code>**) are set up correctly:\n",
    "\n",
    "1. **Run** the cells below\n",
    "2. **Check** the output of your Anaconda Prompt is free of errors\n",
    "3. **Check** that files have been produced in the <code>Metadise_Test/</code> and <code>DLPOLY_Test/</code> directories\n",
    "\n",
    "to make sure that everything is set-up correctly. \n"
   ]
  },
  {
   "cell_type": "markdown",
   "metadata": {},
   "source": [
    "## METADISE ##\n",
    "\n",
    "<code>METADISE</code> is a code comprised of a number of modules for setting-up simulation cells.\n",
    "\n",
    "Some of the <code>METADISE</code> functionality we will be using includes:\n",
    "\n",
    "1. one\n",
    "2. two\n",
    "3. three\n",
    "\n"
   ]
  },
  {
   "cell_type": "code",
   "execution_count": null,
   "metadata": {
    "collapsed": true
   },
   "outputs": [],
   "source": [
    "# Test METADISE\n",
    "\n",
    "os.chdir(cwd)\n",
    "\n",
    "os.chdir(\"Metadise_Test/\")\n",
    "subprocess.call('../../Codes/metadise.exe')\n",
    "\n",
    "os.chdir(cwd)"
   ]
  },
  {
   "cell_type": "markdown",
   "metadata": {},
   "source": [
    "The <code>METADISE/</code> directory should contain the following input files:\n",
    "\n",
    "**<code>input.txt</code>**\n",
    "\n",
    "Specifies the structural information including the dimensions of the simulation cell and then positions of all the atoms (in Å ) as well as the instructions to <code>METADISE</code>.\n",
    "\n",
    "<br/>\n",
    "\n",
    "as well as the following output files: \n",
    "\n",
    "<br/>\n",
    "\n",
    "\n",
    "**<code>summ_o000n.OUT</code>** \n",
    "\n",
    "\n",
    "\n",
    "**<code>job_o000n.cml</code>** \n",
    "\n",
    "\n",
    "**<code>fin_o000n.res</code>** \n",
    "\n",
    "\n",
    "**<code>field_o000n.DLP</code>** \n",
    " \n",
    "<code>DL_POLY</code> <code>FIELD</code> file.\n",
    "\n",
    "**<code>config_o000n.DLP</code>** \n",
    "\n",
    "Structure file in <code>DL_POLY</code> <code>CONFIG</code> file format.\n",
    "\n",
    "**<code>control_o000n.DLP</code>** \n",
    "\n",
    "<code>DL_POLY</code> <code>CONTROL</code> file.\n",
    "\n",
    "**<code>code_o000n.OUT</code>** \n",
    "\n",
    "**<code>af_co000n.MSI</code>** \n",
    "\n",
    "Structure file in <code>MSI</code> format.\n",
    "\n",
    "**<code>af_co000n.XYZ</code>** \n",
    "\n",
    "Structure file in <code>XYZ</code> format.\n",
    "\n",
    "**<code>af_co000n.CIF</code>** \n",
    "\n",
    "Structure file in <code>CIF</code> format.\n",
    "\n",
    "**<code>af_co000n.CAR</code>** \n",
    "\n",
    "Structure file in <code>CAR</code> format."
   ]
  },
  {
   "cell_type": "markdown",
   "metadata": {},
   "source": [
    "## DL_POLY ##\n",
    "\n",
    "<code>DL_POLY</code> is a general purpose parallel molecular dynamics package that was written by Daresbury Laboratory, primarily to support CCP5.\n",
    "\n",
    "The code is available free of charge and was written to be sufficiently flexible that it can be applied to many different condensed matter materials. \n"
   ]
  },
  {
   "cell_type": "code",
   "execution_count": null,
   "metadata": {
    "collapsed": true
   },
   "outputs": [],
   "source": [
    "# Test DL_POLY\n",
    "\n",
    "# This may take several minutes\n",
    "\n",
    "os.chdir(cwd)\n",
    "\n",
    "os.chdir(\"DLPOLY_Test/\")\n",
    "subprocess.call(\"../../Codes/dlpoly_classic\")\n",
    "\n",
    "os.chdir(cwd)"
   ]
  },
  {
   "cell_type": "markdown",
   "metadata": {},
   "source": [
    "The <code> DLPOLY_Test/ </code> directory should contain the following input files:\n",
    "\n",
    "**<code>CONTROL </code>**\n",
    "\n",
    "Specifies the conditions for a run of the program e.g. steps, timestep, temperature, pressure, required ensemble etc. \n",
    "\n",
    "**<code>FIELD</code>** \n",
    "\n",
    "Specifies the force field for the simulation. It is also important to appreciate that it defines the order in which atoms will appear in the configuration. For example, if there were 25 W and 75 O atoms, this file will give the order of atoms in the simulation cell. \n",
    "\n",
    "**<code>CONFIG</code>** \n",
    "\n",
    "Specifies the dimensions of the simulation cell and then positions of all the atoms (in Å ). If it is generated from a previous run, it may also contain the atomic velocities and forces for each atom. \n",
    "\n",
    "<br/>\n",
    "\n",
    "as well as the following output files: \n",
    "\n",
    "<br/>\n",
    "\n",
    "\n",
    "**<code>OUTPUT</code>** \n",
    "\n",
    "Contains a summary of the simulation, including the input data, simulation progress report and summary of final system averages. \n",
    "\n",
    "**<code>REVCON</code>** \n",
    "\n",
    "This contains the positions, velocities and forces of all the atoms in the system at the end of the simulation. When renamed <code>CONFIG</code> is used as the restart configuration for a continuation run. It is written at the same time as the <code>REVIVE</code> file.  As with the <code>CONFIG</code> file, it is always worth checking that the atoms are at sensible positions. \n",
    "\n",
    "**<code>STATIS</code>** \n",
    "\n",
    "Contains a number of system variables at regular (user-specified) intervals throughout a simulation. It can be used for later statistical analysis. Note the file grows every time <code>DL_POLY</code> is run and is not overwritten. It should be removed from the execute subdirectory if a new simulation is to be started. \n",
    "\n",
    "**<code>HISTORY</code>** \n",
    "\n",
    "This details the atomic positions, (although can be made to contain velocities and forces) at selected intervals in the simulation. It forms the basis for much of the later analysis of the system. This file can become extremely large (beware) and is appended to, not overwritten, by later runs. It should always be removed from the execute subdirectory if a new simulation is to be started. "
   ]
  },
  {
   "cell_type": "markdown",
   "metadata": {},
   "source": [
    "<br/>\n",
    "We also need to check whether the visualisation programs we are using (**<code>VESTA</code>** and **<code>VMD</code>**) are set up correctly:\n",
    "\n",
    "1. **Follow ** instructions in the cells below\n",
    "\n",
    "to make sure that everything is set-up correctly. \n"
   ]
  },
  {
   "cell_type": "markdown",
   "metadata": {
    "collapsed": true
   },
   "source": [
    "## VESTA ##\n",
    "\n",
    "**<code>VESTA</code>** is a 3D visualization program for structural models, volumetric data such as electron/nuclear densities, and crystal morphologies.\n"
   ]
  },
  {
   "cell_type": "markdown",
   "metadata": {},
   "source": [
    "### VESTA TEST ###\n",
    "\n",
    "1. **Open**<code> VESTA </code>(Start Menu -> VESTA)\n",
    "2. **Open** the<code> DL_POLY CONFIG </code>file from the <code>DLPOLY_Test/</code> directory (File -> Open -> <code>CONFIG</code>)\n",
    "3. **Inspect** the structure by experimenting  with using the viewer to manipulate the cell. For example you might try to rotate the cell or change the display type or grow the crystal.\n",
    "\n"
   ]
  },
  {
   "cell_type": "markdown",
   "metadata": {
    "collapsed": true
   },
   "source": [
    "## VMD ##\n",
    "\n",
    "**<code>VMD</code>** is a molecular visualization program for displaying, animating, and analyzing large biomolecular systems using 3D graphics and built-in scripting.\n",
    "\n",
    "We can use<code> VMD </code>to look in more detail at structure and to visualize the trajectories directly. As well as visualization, VMD can also calculate various properties including radial distribution functions g(r) to enable a more quantitative structural analysis, which can easily distinguish between a solid and liquid, based on the structure "
   ]
  },
  {
   "cell_type": "markdown",
   "metadata": {},
   "source": [
    "### VMD TEST ###\n",
    "\n",
    "1. **Open**<code> VMD </code>(Start Menu -> VMD)\n",
    "2. **Open** the<code> DL_POLY HISTORY </code>file from the <code>DLPOLY_Test/</code> directory (File -> New Molecule -> Browse -> <code>HISTORY</code>)\n",
    "3. **Change** file type to DLPOLY V2 History from the ‘Determine file type’ drop-down menu\n",
    "\n",
    "4. **Inspect** the structure by experimenting  with using the viewer to manipulate the cell. For example you might try to rotate the cell or zoom in and out."
   ]
  },
  {
   "cell_type": "markdown",
   "metadata": {},
   "source": [
    "# 2. Extension: Quick Molecular Dynamics Exercise #\n",
    "\n",
    "We will mainly be adjusting the <code>DL_POLY CONTROL</code> file to adjust the simulation conditions and analysing the output obtained from MD simulations using a package called <code>VMD</code>. \n",
    "\n",
    "Once this task is complete we will explore the structural changes in different materials.\n"
   ]
  },
  {
   "cell_type": "markdown",
   "metadata": {},
   "source": [
    "### Checking The Structure ###\n",
    "\n",
    "A useful first check if the atom positions are not chemically sensible is to open the <code>CONFIG</code> file with <code>VESTA</code> as we did above.\n",
    "\n",
    "The <code>DL_POLY</code> jobs will take just under 10 minutes to run – if you find that yours is terminating immediately, or lasting for significantly longer than 15 minutes, please inform a demonstrator. "
   ]
  },
  {
   "cell_type": "code",
   "execution_count": null,
   "metadata": {
    "collapsed": true
   },
   "outputs": [],
   "source": [
    "# Running DL_POLY\n",
    "\n",
    "os.chdir(cwd)\n",
    "\n",
    "os.chdir(\"DLPOLY_Exercise/\")\n",
    "subprocess.call(\"../../Codes/dlpoly_classic\")\n",
    "os.chdir(cwd)"
   ]
  },
  {
   "cell_type": "markdown",
   "metadata": {},
   "source": [
    "### Changing The Parameters ###\n",
    "\n",
    "Open the file <code>CONTROL</code> in <code>**Notepad++</code>**. \n",
    "\n",
    "This file, as its name suggests, contains all the control variables for the simulation, i.e. it tells the program what to do. We have generated a template file with some standard values for a typical simulation; however for the simulation we are going to perform we will need to change a few of these values.\n",
    "\n",
    "1. \t**Check** that the time step is set at <code>0.001 ps (1 fs)</code>\n",
    "2.\t**Check** the number of ‘steps’ is set to <code>20000</code>\n",
    "3. \t**Change** the values <code>traj 1 250 0</code> to <code>traj 0 100 0.</code> This changes how often the program writes out to the <code>HISTORY</code> file (more on this later)\n",
    "4.\t**Select** a temperature to run: first try <code>85</code>. This is the temperature in Kelvin.\n",
    "\n",
    "Once you have made these changes save the file as <code>CONTROL</code>. (again, all capitals with no suffix – ignore any warnings about changing suffix type). \n",
    "\n",
    "**NOTE**: The reliability of the result will depend on the number of steps as this improves the statistics. Thus, if the computer is fast enough, or you are leaving it running etc, try increasing the number of steps, but be careful or you may spend too much time waiting.  \n",
    "\n",
    "All <code>DL_POLY</code> simulations should be run in separate folders. \n"
   ]
  },
  {
   "cell_type": "markdown",
   "metadata": {},
   "source": [
    "### Investigate The System Properties ###\n",
    "\n",
    "**Open** the <code>OUTPUT</code> file in WordPad or NotePad++ and search for the word “final averages”. Under this line, you should find a table of properties and their fluctuations.\n",
    "\n",
    "Properties we particularly consider are <code>temp_tot</code>, <code>eng_cfg</code>, <code>volume</code> and <code>press</code> (Temperature, Potential Energy, Volume and Pressure).  \n",
    "As this is run in the NVE ensemble, the volume will stay fixed.\n",
    "\n",
    "**Check** that the temperature is close to your chosen value, if not, increase the number of equilibration steps (e.g. from <code>1000</code> to <code>10000</code>) and increase the total number of steps by <code>10000</code>.\n",
    "\n",
    "**Increase** the total number of steps and see if the properties remain reasonably constant, i.e. checking that the results are not dependent on the number of timesteps.\n",
    "\n",
    "**Repeat** the simulation in a separate folder but at <code>110 K</code> by changing the <code>CONTROL</code> file and the information in the cell below.\n",
    "\n",
    "Is there a phase change from solid to liquid based on the properties?\n"
   ]
  },
  {
   "cell_type": "code",
   "execution_count": null,
   "metadata": {
    "collapsed": true
   },
   "outputs": [],
   "source": [
    "# Running your own DL_POLY calculation at 110 K\n",
    "\n",
    "os.chdir(cwd)\n",
    "os.chdir(\"<your directory>)\n",
    "subprocess.call(\"<path_to_dl_poly>\")\n",
    "os.chdir(cwd)"
   ]
  },
  {
   "cell_type": "markdown",
   "metadata": {
    "collapsed": true
   },
   "source": [
    "### Structural Analysis and Visualization Using VMD ###\n",
    "\n",
    "**Open** the<code> HISTORY </code>file using <code>VMD</code> as you did before\n",
    "\n",
    "1. **Select** ‘Display’ and click on the 'orthographic' button.\n",
    "2. **Select** ‘Representations’ from the ‘Graphics’ menu to bring up the ‘Graphical Representations’ control panel. \n",
    "3. **Change** the ‘Drawing Method’ to ‘VDW’ and you should be able to see the Ar (green) ions clearly. \n",
    "4. **Increase** ‘Sphere Resolution’ to around 20 to get better definition of the spheres, and ‘Sphere scale’ to around 0.6 to get a clearer view of the atoms.\n",
    "5. To **view** the trajectory of one atom, Change ‘Material’ to ‘Transparent’, and then click on ‘Create Rep’ button near top left-hand corner of ‘Graphical Representations’ box. This will create a new representation, which is initially identical to the first. \n",
    "6. **Change** text in ‘Selected Atoms’ box in new representation from All to index 80, and change Material’ back to ‘Transluscent’ You should now Ar atoms, but one Ar will be highlighted.\n",
    "\n",
    "You can step through the frames in your simulation by returning to the ‘VMD Main’ window and clicking on the advance single frame button.\n",
    "\n",
    "![title](images/vmd_single_frame.png)\n",
    "\n",
    "You can also animate the frames by pressing play button, and adjust the speed from the slider.\n",
    "\n",
    "![title](images/vmd_whole_trajectory.png)\n",
    "\n",
    "Although your simulations will only have a small number of frames, some evidence of F motion should be seen at the higher temperatures. However, simulations at 300 K should show very different behaviour."
   ]
  },
  {
   "cell_type": "markdown",
   "metadata": {},
   "source": [
    "### Calculating RDFs with VMD ###\n",
    "\n",
    "To **show** quantitatively the different degrees of structural order at the two temperatures, the radial distribution function can be used. \n",
    "\n",
    "To access this from <code>VMD </code>, go to the ‘Extensions’ menu from the main window, and from the ‘Analysis’ sub-menu, select ‘Radial Pair Distribution Function g(r)’.\n",
    "\n",
    "![title](images/vmd_rdf.png)\n",
    "\n",
    "**Change** the text in ‘Selection 1’ and ‘Selection 2’ boxes to name AR, as above, and then click on ‘Compute g(r)’ button. \n",
    "\n",
    "This will generate the AR pair radial distribution functions. \n",
    "\n",
    "What do you notice about their form? \n",
    "\n",
    "Can you use these to make a qualitative statement about the relative degree of ordering at 85 and 110 K?"
   ]
  },
  {
   "cell_type": "markdown",
   "metadata": {},
   "source": [
    "### Effect of Ensembles on the Solid to Liquid Phase Transition Temperature ###\n",
    "\n",
    "One of the clear limitations of the algorithm used so far is that the volume was held fixed, and not surprisingly, this will suppress the phase transition, and hence we require to increase the temperature further to initiate the transition.\n",
    "\n",
    "In <code>DL_POLY</code> there are a number of algorithms that can be deployed to control the external condition.  These include:\n",
    "\n",
    "1.\tFixed volume, fixed energy (NVE) \n",
    "2.\tFixed volume, constant temperature (NVT-Berendsen) \n",
    "3.\tFixed volume, constant temperature (NVT-Nosé-Hoover)\n",
    "4.\tConstant pressure, constant temperature (NpT-Berendsen)\n",
    "5.\tConstant pressure, constant temperature (NpT-Nosé-Hoover)\n",
    "6.\tConstant stress, constant temperature (NST-Berendsen)\n",
    "7.\tConstant stress, constant temperature (NST-Nosé-Hoover)\n",
    "\n",
    "The ensemble we have used to date is the NVE or microcanonical ensemble. \n",
    "\n",
    "The others mentioned here either run at constant Temperature or constant Temperature and Pressure. \n",
    "\n",
    "The NpT ensemble allows the volume to change but retains the shape of the simulation cell, while NST allows the shape to change also.  \n",
    "\n",
    "The Berendsen and Nosé-Hoover are different formulations, described elsewhere.  From a practical point of view, Berendsen tends to be more robust/forgiving while Nosé-Hoover gives a more accurate representation of the true thermodynamics.\n",
    "\n",
    "In the <code> CONTROL </code> file **change** '<code>ensemble nve</code>' with '<code> ensemble npt hoover 0.1 0.5 </code>'.\n",
    "\n",
    "**Rerun** simulations at 85 and 110K. <br/>\n",
    "\n",
    "Has a solid-liquid phase transition occurred? <br/>\n",
    "What is your evidence?  \n",
    "Can you obtain an approximate transition temperature? \n",
    "\n",
    "Note: the two numbers after hoover represent the relaxation times of the thermostat and barostat in ps, see manual for detailed explanation. \n",
    "\n",
    "Please **upload** a <code>REVCON</code> saved as:\n",
    "\n",
    "<code>REVCON_surname_forename</code>\n",
    "\n",
    "to the **General Team**."
   ]
  },
  {
   "cell_type": "markdown",
   "metadata": {},
   "source": [
    "Acknowledgement:\n",
    "Thanks to Dr Bill Smith (Daresbury) and Dr James Grant & Chris King (Bath)"
   ]
  }
 ],
 "metadata": {
  "kernelspec": {
   "display_name": "Python 3",
   "language": "python",
   "name": "python3"
  },
  "language_info": {
   "codemirror_mode": {
    "name": "ipython",
    "version": 3
   },
   "file_extension": ".py",
   "mimetype": "text/x-python",
   "name": "python",
   "nbconvert_exporter": "python",
   "pygments_lexer": "ipython3",
   "version": "3.6.3"
  }
 },
 "nbformat": 4,
 "nbformat_minor": 2
}
