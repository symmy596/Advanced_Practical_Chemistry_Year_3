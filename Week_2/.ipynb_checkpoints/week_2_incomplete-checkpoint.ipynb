{
 "cells": [
  {
   "cell_type": "code",
   "execution_count": null,
   "metadata": {
    "collapsed": true
   },
   "outputs": [],
   "source": [
    "import numpy as np\n",
    "import matplotlib.pyplot as plt\n",
    "import examples\n",
    "import warnings\n",
    "warnings.filterwarnings('ignore')"
   ]
  },
  {
   "cell_type": "markdown",
   "metadata": {},
   "source": [
    "# Advanced Chemistry Practical: Computational Chemistry\n",
    "\n",
    "Welcome to the advanced pratical focusing on [computational chemistry](./README.md). Over the next four weeks you will: \n",
    "\n",
    "- gain a understanding of, and familiarity, with molecular dynamics (MD) simulations.\n",
    "- learn how MD simulations are performed in practice.\n",
    "- use MD simulations to study the solid state materials, such as batteries and solar cells. \n",
    "- rationalise your results in terms of physical chemistry phenomena you are familiar with. \n",
    "\n",
    "For more details about the learning objectives of this practical, please see the [lesson plan](https://github.com/MeganStalker/Advanced_Practical_Chemistry_Year_3/blob/master/LESSONPLAN.md) online. \n",
    "\n",
    "This pratical will also make use of some of the **<code>Python</code>** and **<code>Jupyter</code>** skills that you were introduced to in the first and second year computational laboratory, if you feel that these are not fresh in your mind it might be worth looking back at the exercises from previous years, or investigate the links provided in this document.\n",
    "\n",
    "This second week we will focus on an introduction to **classical molecular dynamics simulation**, if you took the \"Introduction to Computational Chemistry\" (CH20238) module last year this **will** involve some revision. However, it is **important** that you work through the whole introduction as it should make the basis for the methodology section of your report. That said, as with all work, this notebook should **not** be your exclusive source of background information about molecular dynamics. Below is a non-exhaustive list of books in the library that can be used for more information: \n",
    "\n",
    "- Harvey, J. (2017). *Computational Chemistry*. Oxford, UK. Oxford University Press\n",
    "    - Bath Library Shelf Reference: 542.85 HAR\n",
    "- Grant, G. H. & Richards, W. G. (1995). *Computational Chemistry*. Oxford, UK. Oxford University Press\n",
    "    - Bath Library Shelf Reference: 542.85 GRA\n",
    "- Leach, A. R. (1996). *Molecular modelling: principles and applications*. Harlow, UK. Longman\n",
    "    - Bath Library Shelf Reference: 541.6 LEA\n",
    "- Frenkel, D. & Smit, B. (2002). *Understanding molecular simulation: from algorithms to applications*. San Diego, USA. Academic Press\n",
    "    - Bath Library Shelf Reference: 541.572.6 FRE\n",
    "    - Note: This book is a personal favourite, great if you love maths and algorithms but is particularly **hardcore**.\n",
    "- Allen, M. P. & Tildesley, D. J. (1987). *Computer simulation of liquids*. Oxford, UK. Clarendon Press\n",
    "    - Bath Library Shelf Reference: 532.9 ALL\n",
    "    - Note : This is also pretty **hardcore**. \n",
    "    \n",
    "\n",
    "## Introduction to classical molecular dynamics\n",
    "\n",
    "**Classical molecular dynamics** is one of the most commonly applied techniques in computational chemistry, in particular for the study of large systems such as proteins, polymers, batteries materials, and solar cells. In classical molecular dynamics, as you would expect, we use **classical methods** to study the **dynamics** of **molecules**. \n",
    "\n",
    "### Classical methods\n",
    "\n",
    "The term **classical methods** is used to distinguish from quantum mechanical methods, such as the Hartree-Fock method or Møller–Plesset perturbation theory. In these classical methods, the quantum mechanical **weirdness** is not present, which has a significant impact on the efficiency of the calculation. The need for quantum mechanics is removed by integrating over all of the electronic orbitals and motions and describing the atom as a fixed electron distribution. This **simplification** has some drawbacks, classical methods are only suitable for the study of molecular ground states, limiting the ability to study reactions. Furthermore, it is necessary to determine some way to **describe** this electron distribution. \n",
    "\n",
    "In practice, the model used to describe the electron distribution is usually **isotropic**, e.g. a sphere, with the electron sharing bonds between the atoms described as springs. \n",
    "\n",
    "<center>\n",
    "    <br>\n",
    "    <img src=\"./figures/fig001.png\" width=\"400px\">\n",
    "    <i>Figure 1. A pictorial example of the models used in a classical method.</i>\n",
    "    <br>\n",
    "</center>\n",
    "\n",
    "The aim of a lot of chemistry is to understand the **energy** of the given system, therefore we must parameterise the **models** of our system in terms of the energy. For a molecular system, the energy is defined in terms of bonded and non-bonded interactions, \n",
    "\n",
    "$$ E_{\\text{tot}} = E_{\\text{bond}} + E_{\\text{angle}} + E_{\\text{dihedral}} + E_{\\text{non-bond}} $$\n",
    "\n",
    "where, $E_{\\text{bond}}$, $E_{\\text{angle}}$, and $E_{\\text{dihedral}}$ are the energies associated with all of the bonded interactions, and $E_{\\text{non-bond}}$ is the energy associated with all the of the non-bonded interactions. In this project, we will be focusing on **atomic ionic solids**, where there are no covalent bonds between the atoms, therefore in this introduction will focus on the **non-bonded interactions**. \n",
    "\n",
    "The parameterisation of the model involves the use of **mathematical functions** to describe some **physical relationship**. For example, one of the two common non-bonded interactions is the electrostatic interaction between two charged particles, to model this interaction we use **Coulomb's law**, which was first defined in 1785, \n",
    "\n",
    "$$ E_{\\text{Coulomb}}(r_{ij}) = \\frac{1}{4\\pi\\epsilon_0}\\frac{q_iq_je^2}{r_{ij}}, $$ \n",
    "\n",
    "where, $q_i$ and $q_j$ are the charges on the particles, $e$ is the charge of the electron, $\\epsilon$ is the dielectric permitivity of vacuum, and $r_{ij}$ is the distance between the two particles. \n",
    "\n",
    "In the cell below the example code is shown. Here is function which models the electrostatic interaction using Coulomb's law, before plotting it (if you need a quick reminder of function definition, check out [this blog](http://pythoninchemistry.org/functions)). "
   ]
  },
  {
   "cell_type": "markdown",
   "metadata": {},
   "source": [
    "## A note on Python \n",
    "\n",
    "The lessons that were taught in first and second year have given you enough programming experience to complete this exercise. **In reality, you will not need to convey any knowledge of <code>Python</code> in your reports or in your viva**. <code>Python</code> is a useful tool that allows you to see the underlying algorithms that underpin computational chemistry and allows you to setup and analyse simulations quickly and efficiently. \n",
    "\n",
    "In this tutorial we are relying on the <code>numpy</code> library. For more information on importing libraries please [see](https://pythoninchemistry.org/import-anything). The main objective for you in this exercise is to define functions that describe the interactions between atoms. For more information on functions please [see](https://pythoninchemistry.org/functions)."
   ]
  },
  {
   "cell_type": "code",
   "execution_count": null,
   "metadata": {},
   "outputs": [],
   "source": [
    "%matplotlib inline\n",
    "from scipy.constants import e, epsilon_0\n",
    "from math import pi\n",
    "\n",
    "def Coulomb(qi, qj, dr):\n",
    "    return (qi * qj * e ** 2.) / (4. * pi * epsilon_0 * dr)\n",
    "\n",
    "r = np.linspace(3e-10, 8e-10, 100)\n",
    "plt.plot(r, Coulomb(1, -1, r))\n",
    "plt.xlabel(r'$r_{ij}$/m')\n",
    "plt.ylabel(r'$E$/J')\n",
    "plt.show()"
   ]
  },
  {
   "cell_type": "markdown",
   "metadata": {
    "collapsed": true
   },
   "source": [
    "Note that if $q_i$ and $q_j$ have different signs (e.g. are oppositely charged) then the value of $E_{\\text{Coulomb}}$ will **always** be less then zero (e.g. attractive). It is clear that this mathematical function has clear roots in the physics of the system. \n",
    "\n",
    "However, the other component of the non-bonded interaction is less well defined. This is the **van der Waals** interaction, which encompasses both the attractive London dispersion effects and the repulsive Pauli exclusion principle. There are a variety of ways that the van der Waals interaction can be modelled, this week we will investigate a few of these. \n",
    "\n",
    "One commonly applied model is the **Lennard-Jones** potential model, which considers the attractive London dispersion effects as follows, \n",
    "\n",
    "$$ E_{\\text{attractive}}(r_{ij}) = \\frac{-B}{r_{ij}^6}, $$\n",
    "\n",
    "where $B$ is some constant for the interaction, and $r_{ij}$ is the distance between the two atoms. The Pauli exclusion principle is repulsive and only presented over very short distances, and is therefore modelled with the relation, \n",
    "\n",
    "$$ E_{\\text{repulsive}}(r_{ij}) = \\frac{A}{r_{ij}^{12}}, $$\n",
    "\n",
    "again $A$ is some interaction specific constant. The total Lennard-Jones interaction is then the linear combination of these two terms, \n",
    "\n",
    "$$ E_{LJ}(r_{ij}) = E_{\\text{repulsive}}(r_{ij}) + E_{\\text{attractive}}(r_{ij}) = \\frac{A}{r_{ij}^{12}} - \\frac{B}{r_{ij}^6}. $$\n",
    "\n"
   ]
  },
  {
   "cell_type": "markdown",
   "metadata": {},
   "source": [
    "### Exercise 1 ###\n",
    "\n",
    "As was performed for the electrostatic interaction example above, in the cell below:\n",
    "\n",
    "1. **Define** each of the attractive, repulsive and total van der Waals interaction energies as defined by the Lennard-Jones potential\n",
    "\n",
    "2. **Plot** all three on a single graph\n",
    "\n",
    "Where $A = 1.363\\times10^{-134}\\text{ Jm}^{-12}$ and $B = 9.273\\times10^{-78}\\text{ Jm}^{-6}$.\n"
   ]
  },
  {
   "cell_type": "code",
   "execution_count": null,
   "metadata": {},
   "outputs": [],
   "source": [
    "%matplotlib inline\n",
    "def attractive(dr, b):\n",
    "    return □ □ □\n",
    "\n",
    "def repulsive(dr, a):\n",
    "    return □ □ □\n",
    "\n",
    "def lj(dr, constants):\n",
    "    return  □ □ □\n",
    "\n",
    "r = np.linspace(3e-10, 8e-10, 100)\n",
    "plt.plot(r, attractive(r, 9.273e-78), label='Attractive')\n",
    "plt.plot(r, repulsive(r, 1.363e-134), label='Repulsive')\n",
    "plt.plot(r, lj(r, [1.363e-134, 9.273e-78]), label='Lennard-Jones')\n",
    "plt.xlabel(r'$r_{ij}$/m')\n",
    "plt.ylabel(r'$E$/J')\n",
    "plt.legend()\n",
    "plt.savefig(\"LJ.png\", dpi=600)\n",
    "plt.show()"
   ]
  },
  {
   "cell_type": "markdown",
   "metadata": {},
   "source": [
    "The following cell is a testing cell. If your functions are correct, it will run without issue, if it fails, then there is an error in your function. These will be used throughout this exercise. "
   ]
  },
  {
   "cell_type": "code",
   "execution_count": null,
   "metadata": {
    "collapsed": true
   },
   "outputs": [],
   "source": [
    "np.testing.assert_almost_equal(attractive(5e-10, 9.273e-78) * 1e18, -5.93472e-4)\n",
    "np.testing.assert_almost_equal(repulsive(5e-10, 1.363e-134) * 1e18, 5.5828e-5)\n",
    "np.testing.assert_almost_equal(lj(5e-10, [1.363e-134, 9.273e-78]) * 1e18, -5.3764e-4)"
   ]
  },
  {
   "cell_type": "markdown",
   "metadata": {},
   "source": [
    "The Lennard-Jones potential is by no means the only way to model the van der Waals interaction. Another common potential model is the **Buckingham** potential, like the Lennard-Jones potential, the Buckingham models the attractive term with a power-6. However, instead of the power-12 repulsion, this is modelled with an exponential function. The total Buckingham potential is as follows, \n",
    "\n",
    "$$ E_{\\text{Buckingham}}(r_{ij}) = A\\exp({-Br_{ij}}) - \\frac{C}{r_{ij}^6}, $$\n",
    "\n",
    "where $A$, $B$, and $C$ are interaction specific. N.B. these are not the same $A$ and $B$ as in the Lennard-Jones potential. "
   ]
  },
  {
   "cell_type": "markdown",
   "metadata": {},
   "source": [
    "### Exercise 2 ###\n",
    "\n",
    "**In the cell below**\n",
    "\n",
    "1. **Define** a Buckingham potential\n",
    "2. **Plot** it\n",
    "\n",
    "Where $A = 1.69\\times10^{-15}\\text{ J}$, $B = 3.66\\times10^{10}\\text{ m}$, and $C = 1.02\\times10^{-77}\\text{ Jm}^{-6}$.\n",
    "\n",
    "Hint: to use exponents in <code>Python</code> we can use the <code>np.exp</code> function from the <code>NumPy</code> library."
   ]
  },
  {
   "cell_type": "code",
   "execution_count": null,
   "metadata": {},
   "outputs": [],
   "source": [
    "%matplotlib inline\n",
    "def buckingham(dr, constants):\n",
    "    return □ □ □\n",
    "\n",
    "r = np.linspace(0.6e-10, 8e-10, 100)\n",
    "plt.plot(r, buckingham(r, [1.69e-15, 3.66e10, 1.02e-77]), label='Buckingham')\n",
    "plt.xlabel(r'$r_{ij}$/m')\n",
    "plt.ylabel(r'$E$/J')\n",
    "plt.legend()\n",
    "plt.show()"
   ]
  },
  {
   "cell_type": "code",
   "execution_count": null,
   "metadata": {},
   "outputs": [],
   "source": [
    "np.testing.assert_almost_equal(buckingham(5e-10, [1.69e-15, 3.66e10, 1.02e-77]) * 1e18, -6.3373e-4)\n",
    "np.testing.assert_almost_equal(buckingham(0.5e-10, [1.69e-15, 3.66e10, 1.02e-77]) * 1e15, -.381701)"
   ]
  },
  {
   "cell_type": "markdown",
   "metadata": {},
   "source": [
    "When the Buckingham potential is plotted from $3~Å$ to $10~Å$, the potential looks similar to the Lennard-Jones. There is a well of ideal interatomic distance with a shallow path out as the particles move apart and a very steep incline for the particles to move closer. \n"
   ]
  },
  {
   "cell_type": "markdown",
   "metadata": {},
   "source": [
    "### Exercise 3 ###\n",
    "\n",
    "1. **Investigate** the Buckingham potential over the range of $r_{ij}$ = $0.6~Å$ and $8~Å$\n",
    "\n",
    "2. **Comment** on the interaction when $r_{ij} < 0.75~Å$.  Does this appear physically realistic? \n",
    "\n",
    "3. **Comment** on problems that may occur when the Buckingham potential is being used at very high temperature. "
   ]
  },
  {
   "cell_type": "markdown",
   "metadata": {},
   "source": [
    "### More simplifications\n",
    "\n",
    "The classical methods that involve modelling atoms as a series of particles with analytical mathematical functions to describe their energy is currently regularly used to model the properties of very large systems, like biological macromolecules. While these calculations are a lot faster using classical methods than quantum mechanics, for a system with $10 000$ atoms, there are still nearly $50 000 000$ interactions to consider. Therefore, so that our calculation run on a feasible timescale we make use of some additional simplifications. \n",
    "\n",
    "#### Cut-offs\n",
    "\n",
    "If we plot the Lennard-Jones potential all the way out to $15 Å$, we get something that looks like *Figure 2*. \n",
    "\n",
    "<center>\n",
    "    <br>\n",
    "    <img src=\"./figures/fig002.png\" width=\"400px\">\n",
    "    <i>Figure 2. The Lennard-Jones potential (blue) and a line of y=0 (orange).</i>\n",
    "    <br>\n",
    "</center>\n",
    "\n",
    "It is clear from *Figure 2*, and from our understanding of the particle interaction, that as the particles move away from each other their interaction energy tends towards $0$. The concept of a cut-off suggests that if two particles are found to be very far apart ($\\sim15~Å$), there is no need calculate the energy between them and it can just be taken as $0$, \n",
    "\n",
    "$$       E(r_{ij})=\\left\\{\n",
    "  \\begin{array}{@{}ll@{}}\n",
    "    \\dfrac{A}{r_{ij}^{12}} - \\dfrac{B}{r_{ij}^6}, & \\text{if}\\ a<15\\text{ Å} \\\\\n",
    "    0, & \\text{otherwise.}\n",
    "  \\end{array}\\right.\n",
    "$$\n",
    "\n",
    "This saves significant computation time, as power (e.g. power-12 and power-6 in the Lennard-Jones potential) are very computationally expensive to calculate. \n",
    "\n",
    "In the cell below, **modify** your Lennard-Jones and Buckingham potential functions to have a cut-off of $15 Å$ (for this you will need to recall if and else statements from the previous Python labs)."
   ]
  },
  {
   "cell_type": "code",
   "execution_count": null,
   "metadata": {
    "collapsed": true
   },
   "outputs": [],
   "source": [
    "def lj(dr, constants):\n",
    "    if dr < 15e-10:\n",
    "        return □ □ □\n",
    "    else:\n",
    "        return □ □ □\n",
    "\n",
    "def buckingham(dr, constants):\n",
    "    if dr < 15e-10:\n",
    "       return □ □ □\n",
    "    else:\n",
    "       return □ □ □\n"
   ]
  },
  {
   "cell_type": "code",
   "execution_count": null,
   "metadata": {},
   "outputs": [],
   "source": [
    "np.testing.assert_almost_equal(lj(5e-10, [1.363e-134, 9.273e-78]) * 1e18, -5.3764e-4)\n",
    "np.testing.assert_almost_equal(buckingham(5e-10, [1.69e-15, 3.66e10, 1.02e-77]) * 1e18, -6.3373e-4)\n",
    "np.testing.assert_almost_equal(buckingham(0.5e-10, [1.69e-15, 3.66e10, 1.02e-77]) * 1e15, -.381701)\n",
    "np.testing.assert_equal(lj(15e-10, [1.363e-134, 9.273e-78]) * 1e18, 0)\n",
    "np.testing.assert_equal(buckingham(15e-10, [1.69e-15, 3.66e10, 1.02e-77]) * 1e18, 0)"
   ]
  },
  {
   "cell_type": "markdown",
   "metadata": {},
   "source": [
    "#### Periodic boundary conditions\n",
    "\n",
    "Even with cut-offs, it is not straightforward to design a large enough simulation cell to represent the bulk behaviour of liquids or solids in a physically relevant way, for example what happens when the atoms interact with the walls of the cell? This is dealt with using **periodic boundary conditions**, which state that the cell being simulated is part of an infinite number of identical cells arranged in a lattice (*Figure 3*). \n",
    "\n",
    "<center>\n",
    "    <br>\n",
    "    <img src=\"./figures/fig003.png\" width=\"300px\">\n",
    "    <i>Figure 3. A two-dimensional example of a periodic cell.</i>\n",
    "    <br>\n",
    "</center>\n",
    "\n",
    "When a particle reaches the cell wall, it moves into the adjecent cell, and since all the cells are identical, it appears on the other side. **Run** the cell below to see a periodic boundary condition in action for a single cell. "
   ]
  },
  {
   "cell_type": "code",
   "execution_count": null,
   "metadata": {},
   "outputs": [],
   "source": [
    "%matplotlib notebook\n",
    "examples.pbc()"
   ]
  },
  {
   "cell_type": "markdown",
   "metadata": {},
   "source": [
    "### Molecular dynamics\n",
    "\n",
    "Having introduced the classical methods, it is now necessary to discuss how the **dynamics of molecules** are obtained. \n",
    "\n",
    "The particles that we are studying are classical in nature, therefore it is possible to apply classical mechanics to rationalise their dynamical behaviour. \n",
    "\n",
    "For this, the starting point is Newton's second law of motion, \n",
    "\n",
    "$$ \\mathbf{f} = m\\mathbf{a}, $$ \n",
    "\n",
    "where, $\\mathbf{f}$ is the force on an atom of mass, $m$, and acceleration, $\\mathbf{a}$.\n",
    "\n",
    "The force between two particles, $i$ and $j$, can be found from the interaction energy, \n",
    "\n",
    "$$ f_{ij} = \\frac{-\\text{d}E(r_{ij})}{\\text{d}r_{ij}}. $$  \n",
    "\n",
    "Which is to say that the force is the negative of the first derivative of the energy with respect to the distance between them. In the cell below, a new function has been defined for the Buckingham energy **or** force. "
   ]
  },
  {
   "cell_type": "code",
   "execution_count": null,
   "metadata": {
    "collapsed": true
   },
   "outputs": [],
   "source": [
    "def lennard_jones(dr, constants, force):\n",
    "    if force:\n",
    "        return 12 * constants[0] * np.power(dr, -13) - (6 * constants[1] * np.power(dr, -7))\n",
    "    else:\n",
    "        return constants[0] * np.power(dr, -12) - (constants[1] * np.power(dr, -6))"
   ]
  },
  {
   "cell_type": "markdown",
   "metadata": {},
   "source": [
    "Use the above function as a template to **define** a similar function to determine the energy **or** force from the Buckingham potential. "
   ]
  },
  {
   "cell_type": "code",
   "execution_count": null,
   "metadata": {
    "collapsed": true
   },
   "outputs": [],
   "source": [
    "def buckingham(dr, constants, force):\n",
    "    if force:\n",
    "        return □ □ □\n",
    "    else:\n",
    "        return □ □ □"
   ]
  },
  {
   "cell_type": "code",
   "execution_count": null,
   "metadata": {
    "collapsed": true
   },
   "outputs": [],
   "source": [
    "np.testing.assert_almost_equal(lennard_jones(5e-10, [1.363e-134, 9.273e-78], False) * 1e18, -5.3764e-4)\n",
    "np.testing.assert_almost_equal(lennard_jones(5e-10, [1.363e-134, 9.273e-78], True) * 1e10, -5.78178e-2)\n",
    "np.testing.assert_almost_equal(lennard_jones([5e-10, 5e-10], [1.363e-134, 9.273e-78], True) * 1e10, \n",
    "                               [-5.78178e-2, -5.78178e-2])"
   ]
  },
  {
   "cell_type": "markdown",
   "metadata": {},
   "source": [
    "You may have noted that the force in eqn. 8 is a vector quantity, whereas that in eqn. 9 is not. Therefore it is necessary to convert obtain the force vector in each dimension, by multiplication by the unit vector in that dimenion, \n",
    "\n",
    "$$ \\mathbf{f}_x = f \\mathbf{\\hat{r}}_x \\text{, where } \\mathbf{\\hat{r}}_x = \\frac{r_x}{|\\mathbf{r}|}. $$\n",
    "\n",
    "This must be carried out to determine the force on the particle in each dimension that is being considered. However, in this example we will only consider the $x$-dimension for now.\n",
    "\n",
    "This means for a system with two argon particles, at positions of $x_0 = 5~Å$ and $x_1 = 10~Å$, we are able to determine the energy of the interaction and force, and acceleration on each particle, as **shown** in the cell below."
   ]
  },
  {
   "cell_type": "code",
   "execution_count": null,
   "metadata": {
    "collapsed": true
   },
   "outputs": [],
   "source": [
    "mass_of_argon = 39.948 # amu\n",
    "mass_of_argon_kg = mass_of_argon * 1.6605e-27\n",
    "\n",
    "def get_acceleration(positions):\n",
    "    rx = np.zeros_like(positions)\n",
    "    k = 0\n",
    "    for i in range(0, len(positions)):\n",
    "        for j in range(0, len(positions)):\n",
    "            if i != j:\n",
    "                rx[k] = positions[i] - positions[j]\n",
    "                k += 1\n",
    "    r_mag = np.sqrt(rx * rx)\n",
    "    force = lennard_jones(r_mag, [1.363e-134, 9.273e-78], True)\n",
    "    force_x = force * rx / r_mag\n",
    "    acceleration_x = force_x / mass_of_argon_kg\n",
    "    return acceleration_x\n",
    "\n",
    "positions = np.array([5e-10, 10e-10])\n",
    "acc = get_acceleration(positions)\n",
    "print('acceleration on particle 0 = {:.2e} m/s2'.format(acc[0]))\n",
    "print('acceleration on particle 1 = {:.2e} m/s2'.format(acc[1]))"
   ]
  },
  {
   "cell_type": "markdown",
   "metadata": {},
   "source": [
    "#### Integration\n",
    "\n",
    "This means that we now know the position of the particle and the acceleration that it has, so it is only necessary to then find the velocity of the particle and we can apply the basic equations of motion to our particles,\n",
    "\n",
    "$$ \\mathbf{x}_i(t + \\Delta t) = \\mathbf{x}_i(t) + \\mathbf{v}_i(t)\\Delta t + \\dfrac{1}{2} \\mathbf{a}_i(t)\\Delta t^2, $$\n",
    "\n",
    "$$ \\mathbf{v}_i(t + \\Delta t) = \\mathbf{v}_i(t) + \\dfrac{1}{2}\\big[\\mathbf{a}_i(t) + \\mathbf{a}_i(t+\\Delta t)\\big]\\Delta t, $$ \n",
    "\n",
    "where, $\\Delta t$ is the timestep (how far in time is incremented), $\\mathbf{x}_i$ is the particle position, $\\mathbf{v}_i$ is the velocity, and $\\mathbf{a}_i$ the acceleration. This pair of equations is known as the Velocity-Verlet algorithm, which can be written as:\n",
    "\n",
    "1. Find the position of the particle after some timestep using eqn. 11, \n",
    "2. Calculate the force (and acceleration) on the particle,\n",
    "3. Determine a new velocity for the particle, based on the average acceleration at the current and new positions, using eqn. 12, \n",
    "4. Overwrite the old acceleration values with the new ones, $\\mathbf{a}_{i}(t) = \\mathbf{a}_{i}(t + \\Delta t)$,\n",
    "4. Go to 1.\n",
    "\n",
    "This process can be continued for as long as is required to get good statistics for the quanity you are interested in (or for as long as you can wait for/afford to run the computer for).  \n",
    "\n",
    "This process is called the integration step, and the Velocity-Verlet is the **integrator**. The Velocity-Verlet integration is numerical in nature, meaning that the accuracy of this method is dependent on the timestep, $\\Delta t$, size.\n",
    "\n",
    "Small values of $\\Delta t$ are capable of keeping the resultant uncertainty of the position and velocity small, these values are usually on the scale of $10^{-15}\\text{ s}$ (femtoseconds). This means that to even measure a nanosecond of \"real-time\" molecular dynamics, 1 000 000 (one million) iterations of the above algorithm must be performed. \n",
    "\n",
    "In the cell below, these have been defined. "
   ]
  },
  {
   "cell_type": "code",
   "execution_count": null,
   "metadata": {
    "collapsed": true
   },
   "outputs": [],
   "source": [
    "def update_pos(x, v, a, dt):\n",
    "    return x + v * dt + 0.5 * a * dt * dt\n",
    "\n",
    "def update_velo(v, a, a1, dt):\n",
    "    return v + 0.5 * (a + a1) * dt"
   ]
  },
  {
   "cell_type": "markdown",
   "metadata": {},
   "source": [
    "#### Initialisation\n",
    "\n",
    "There are only two tools left that you need to run a molecular dynamics simulation, and both are associated with the original configuration of the system; the original particle positions, and the original particle velocities. \n",
    "\n",
    "The particle positions are usually taken from some library of structures (e.g. the protein data bank if you are simulating proteins) or based on some knowledge of the system (e.g. CaF<sub>2</sub> is known to have a face-centred cubic structure). The particle velocities are a bit more nuanced, as the total kinetic energy, $E_K$ of the system (and therefore the particle velocities) are dependent on the temperature of the simulation, $T$. \n",
    "\n",
    "$$ E_K = \\sum_{i=1}^N \\frac{m_i|v_i|^2}{2} = \\frac{3}{2}Nk_BT, $$\n",
    "\n",
    "where $m_i$ is the mass of particle $i$, $N$ is the number of particles and $k_B$ is the Boltzmann constant. Based on this knowledge, the most common way to obtain initial velocities is to assign random values and then scale them based on the temperature of the system. For example, in the software you will use later today the initial velocity are determined as follow, \n",
    "\n",
    "$$ v_i = R_i \\sqrt{\\dfrac{k_BT}{m_i}}, $$\n",
    "\n",
    "where $R_i$ is some random number between $-0.5$ and $0.5$, $k_B$ is the Boltzmann constant, $T$ is the temperature, and $m_i$ is the mass of the particle.\n",
    "\n",
    "In the cell below the example code is shown"
   ]
  },
  {
   "cell_type": "code",
   "execution_count": null,
   "metadata": {
    "collapsed": true
   },
   "outputs": [],
   "source": [
    "def init_velocity(temperature, part_numb):\n",
    "    v = np.random.rand(part_numb) - 0.5\n",
    "    return v * np.sqrt(temperature * 1.3806e-23 / mass_of_argon_kg)"
   ]
  },
  {
   "cell_type": "markdown",
   "metadata": {},
   "source": [
    "#### Build an MD simulation\n",
    "\n",
    "We will now try and use what we have done so far to build a 1-dimensional molecular dynamics simulation.\n",
    "\n",
    "A molecular dynamics simulation is essentially an algorithm that can be broken down into a series of steps. Each step has already been defined in a function above. Now you need to stitch them together to build your own 1D MD simulation. \n",
    "\n",
    "In the cell below the steps have been laid out for you.\n",
    "\n",
    "1. **Define** the timestep, number of steps and initial positions of the particles (Done for you),\n",
    "2. **Initialise** the velocities - Use the init_velocity function defined above - Temperature of 30 K with 2 particles,\n",
    "3. **Calculate** the accelerations - Use the get_acceleration function,\n",
    "4. **Begin** a loop of the number of timesteps,\n",
    "5. **Update** the positions - Use the update_pos functions,\n",
    "6. **Calculate** the new accelerations - Use the get_acceleration function,\n",
    "7. **Update** the velocity - Use the update_velo function,\n",
    "8. **Save** the accelerations,"
   ]
  },
  {
   "cell_type": "code",
   "execution_count": null,
   "metadata": {
    "collapsed": true
   },
   "outputs": [],
   "source": [
    "dt = 1e-14 # (seconds) \n",
    "number_of_steps = 1000\n",
    "distances = []\n",
    "\n",
    "# initialisation\n",
    "x = np.array([5e-10, 10e-10]) # (meters) these are the starting positions of the particles\n",
    "#v = \n",
    "#a = \n",
    "\n",
    "for i in range(0, number_of_steps):\n",
    "#    x =\n",
    "#    a1 =    \n",
    "#    v = \n",
    "#    a =  \n",
    "    distances.append(np.abs(x[1] - x[0]))\n"
   ]
  },
  {
   "cell_type": "markdown",
   "metadata": {},
   "source": [
    "**Ensure** that a demonstrator has checked the MD simulation before you continue!"
   ]
  },
  {
   "cell_type": "code",
   "execution_count": null,
   "metadata": {
    "collapsed": true
   },
   "outputs": [],
   "source": [
    "%matplotlib inline\n",
    "plt.plot(distances)\n",
    "plt.xlabel('Steps')\n",
    "plt.ylabel('Distances/m')\n",
    "plt.show()"
   ]
  },
  {
   "cell_type": "markdown",
   "metadata": {},
   "source": [
    "Run your 1-D molecular dynamics simulation a few times each at a range of different initial temperatures. In the cell below, **comment** on the effect of the different temperature on the distances that are sampled in the simulation."
   ]
  },
  {
   "cell_type": "markdown",
   "metadata": {},
   "source": [
    "Comment on the effect of the different temperature on the interatomic distances sampled in the simulation"
   ]
  },
  {
   "cell_type": "markdown",
   "metadata": {},
   "source": [
    "## Phase diagram\n",
    "\n",
    "Having been introduced to the main aspects of the molecular dynamics simulation methodology, we will make use of existing software packages to probe material structure. This is common pratice, as writing a full software package is very complicated, so it is best to use a *well-troden*, and optimised, code.\n",
    "\n",
    "This week you will make use of the <code>pylj</code> [1] code, which simulates argon atoms in a 2-dimensional environment. Next week, you will be introduced to <code>DL_POLY</code> [2], a more general purpose molecular dynamics package. \n",
    "\n",
    "Before we introduce how to use the pylj software, it is necessary to consider the problem to which it will be applied,\n",
    "\n",
    "> The aim of the rest of this session is to determine and plot the phase diagram for two-dimension argon\n",
    "\n",
    "The determination of a material's phase on the atomistic scale is a non-trivial task. In this exercise, we will use two main tools for phase identification:\n",
    "\n",
    "- Mean squared displacement (MSD)\n",
    "- Radial distribution function (RDF) \n",
    "\n",
    "### Mean squared displacement\n",
    "\n",
    "You will find out more about the MSD next week. However, for now we only need to be aware the MSD is a measure of how far the particles have moved during the simulation. The result is that it is possible to identify different phase of matter from the MSD plot, see *Figure 4* below. \n",
    "\n",
    "<center>\n",
    "    <br>\n",
    "    <img src=\"./figures/fig004.png\" width=\"400px\">\n",
    "    <i>Figure 4. The anticipated MSD form for each state of matter.</i>\n",
    "    <br>\n",
    "</center>\n",
    "\n",
    "It should be expected that in a simulation of a given time, gaseous particles will be able to travel further than liquids, which can travel further then solids. \n",
    "\n",
    "### Radial distribution function\n",
    "\n",
    "A radial distribution function is the probability that another atom would be found at a given distance from each atom, and is a very useful measure of order in the system, of-course more disorder means more gas-like. Shown in *Figure 5*, are the RDFs for three materials; consider the shape of each one and the amount of **order** represented, in the cell below **comment on** and **explain** the expected state (solid, liquid or gas) for each. \n",
    "\n",
    "<center>\n",
    "    <br>\n",
    "    <img src=\"./figures/fig005.png\" width=\"800px\">\n",
    "    <i>Figure 5. The radial distribution functions for 3 states of matter .</i>\n",
    "    <br>\n",
    "</center>"
   ]
  },
  {
   "cell_type": "raw",
   "metadata": {},
   "source": [
    "Comment on and explain the expected state from each of a, b, and c."
   ]
  },
  {
   "cell_type": "markdown",
   "metadata": {},
   "source": [
    "### Software\n",
    "\n",
    "<code>[pylj](http://pythoninchemistry.org/pylj)</code> (python Lennard-Jones) [1] is an open-source Python package for producing molecular dynamics simulations of argon particles (interacting through the Lennard-Jones potential) in 2-dimensions. \n",
    "\n",
    "In the cell below, a molecular dynamics algorithm is **defined** using the pylj library. **Run this cell as is.**"
   ]
  },
  {
   "cell_type": "code",
   "execution_count": null,
   "metadata": {
    "collapsed": true
   },
   "outputs": [],
   "source": [
    "from pylj import md, sample\n",
    "\n",
    "def md_simulation(temperature, number_of_particles, number_of_steps, ff, parameters):\n",
    "    # Creates the visualisation environment\n",
    "    %matplotlib notebook\n",
    "    # Initialise the system\n",
    "    system = md.initialise(number_of_particles, temperature, 20, 'square', forcefield=ff, constants=parameters)\n",
    "    # This sets the sampling class\n",
    "    sample_system = sample.Phase(system)\n",
    "    # Start at time 0\n",
    "    system.time = 0\n",
    "    # Begin the molecular dynamics loop\n",
    "    for i in range(0, number_of_steps):\n",
    "        # Run the equations of motion integrator algorithm, this \n",
    "        # includes the force calculation\n",
    "        system.integrate(md.velocity_verlet)\n",
    "        # Sample the thermodynamic and structural parameters of the system\n",
    "        system.md_sample()\n",
    "        # Allow the system to interact with a heat bath\n",
    "        system.heat_bath(temperature)\n",
    "        # Iterate the time\n",
    "        system.time += system.timestep_length\n",
    "        system.step += 1\n",
    "        # At a given frequency sample the positions and plot the RDF\n",
    "        if system.step % 25 == 0:\n",
    "            sample_system.update(system)\n",
    "    sample_system.average()\n",
    "    return system, sample_system"
   ]
  },
  {
   "cell_type": "markdown",
   "metadata": {},
   "source": [
    "Having defined the molecular dynamics function, we can run it below. \n",
    "\n",
    "The variables that this function takes are as follows:\n",
    "\n",
    "- temperature (K)\n",
    "- number of particles\n",
    "- number of simulation steps\n",
    "- forcefield\n",
    "\n",
    "Running this function will result in four panels being presented. The top left shows the particles in the simulation, the top right gives the total energy for the system, the bottom left is the mean squared displacement and bottom right is the radial distribution function. "
   ]
  },
  {
   "cell_type": "code",
   "execution_count": null,
   "metadata": {
    "collapsed": true
   },
   "outputs": [],
   "source": [
    "temp =□ □ □\n",
    "n_particles = □ □ □\n",
    "n_steps = □ □ □\n",
    "\n",
    "sim, samp_sim = md_simulation(temperature=temp, \n",
    "                              number_of_particles=n_particles, \n",
    "                              number_of_steps=n_steps, \n",
    "                              ff=buckingham, \n",
    "                              parameters=[1.69e-15, 3.66e10, 1.02e-77])"
   ]
  },
  {
   "cell_type": "markdown",
   "metadata": {},
   "source": [
    "What happens if we change the forcefield?"
   ]
  },
  {
   "cell_type": "code",
   "execution_count": null,
   "metadata": {
    "collapsed": true,
    "scrolled": false
   },
   "outputs": [],
   "source": [
    "#temp = □ □ □\n",
    "#n_particles = □ □ □\n",
    "#n_steps = □ □ □\n",
    "\n",
    "sim, samp_sim = md_simulation(temperature=temp, \n",
    "                              number_of_particles=n_particles, \n",
    "                              number_of_steps=n_steps, \n",
    "                              ff=lennard_jones, \n",
    "                              parameters=[1.363e-134, 9.273e-78])"
   ]
  },
  {
   "cell_type": "markdown",
   "metadata": {},
   "source": [
    "### Plotting a phase diagram \n",
    "\n",
    "A phase diagram should be familiar from first-year, this is a graphical representation of the physical state of a substance under different conditions of state such as temperature, pressure and density. \n",
    "\n",
    "In this exercise, the two variables will be **temperature** and **density** (by controlling the number of particles). \n",
    "\n",
    "Using the information that pylj returns about the MSD and the RDF determine the phase for a range of values of temperature (T) and number of particles (N). \n",
    "\n",
    "If the system is a solid, place the pair of T and N in the `solid` array, and similar for if the system is a liquid or a gas.\n",
    "\n",
    "Be aware that if the system is not yet at **equilibrium** (e.g. the energy has not minimised) then the data may not be reliable, make sure you run your simulations for long enough!\n",
    "\n",
    "Record the data in the arrays below and once you have enough datapoints, plot the data. A datapoint for each phase has been provide. "
   ]
  },
  {
   "cell_type": "code",
   "execution_count": null,
   "metadata": {
    "collapsed": true,
    "scrolled": false
   },
   "outputs": [],
   "source": [
    "solid_N = np.array([10])\n",
    "solid_T = np.array([0])\n",
    "liquid_N = np.array([15])\n",
    "liquid_T = np.array([50])\n",
    "gas_N = np.array([10])\n",
    "gas_T = np.array([50])"
   ]
  },
  {
   "cell_type": "markdown",
   "metadata": {},
   "source": [
    "**Make sure you close the pylj app before running the next cell. Off button in the top corner of the app**"
   ]
  },
  {
   "cell_type": "code",
   "execution_count": null,
   "metadata": {
    "collapsed": true
   },
   "outputs": [],
   "source": [
    "plt.plot(solid_T, solid_N, 'o', c='#0173B2')\n",
    "plt.plot(liquid_T, liquid_N, 'o', c='#DE8F05')\n",
    "plt.plot(gas_T, gas_N, 'o', c='#029E73')\n",
    "plt.xlabel('temperature/K')\n",
    "plt.ylabel('number')\n",
    "#plt.text(x, y, 'solid', size=30, \n",
    "#         verticalalignment='center', \n",
    "#         horizontalalignment='center')\n",
    "#plt.text(x, y, 'liquid', size=30, \n",
    "#         verticalalignment='center', \n",
    "#         horizontalalignment='center')\n",
    "#plt.text(x, y, 'gas', size=30, \n",
    "#         verticalalignment='center', \n",
    "#         horizontalalignment='center')\n",
    "\n",
    "plt.show()"
   ]
  },
  {
   "cell_type": "markdown",
   "metadata": {},
   "source": [
    "# References\n",
    "\n",
    "1. A. R. McCluskey, B. J. Morgan, K. J. Edler, and S. C. Parker, (2018). pylj: A teaching tool for classical atomistic simulation. JOSS, **1**(2), 19, https://doi.org/10.21105/jose.00019\n",
    "2. W. Smith and T. R. Forester, (1996). DL_POLY_2.0: A general-purpose parallel molecular dynamics simulation package. J Mol. Graph. Model. **14**, 136-141, https://doi.org/10.1016/S0263-7855(96)00043-4"
   ]
  },
  {
   "cell_type": "code",
   "execution_count": null,
   "metadata": {
    "collapsed": true
   },
   "outputs": [],
   "source": []
  }
 ],
 "metadata": {
  "kernelspec": {
   "display_name": "Python 3",
   "language": "python",
   "name": "python3"
  },
  "language_info": {
   "codemirror_mode": {
    "name": "ipython",
    "version": 3
   },
   "file_extension": ".py",
   "mimetype": "text/x-python",
   "name": "python",
   "nbconvert_exporter": "python",
   "pygments_lexer": "ipython3",
   "version": "3.6.3"
  },
  "latex_envs": {
   "LaTeX_envs_menu_present": true,
   "autoclose": false,
   "autocomplete": true,
   "bibliofile": "biblio.bib",
   "cite_by": "apalike",
   "current_citInitial": 1,
   "eqLabelWithNumbers": true,
   "eqNumInitial": 1,
   "hotkeys": {
    "equation": "Ctrl-E",
    "itemize": "Ctrl-I"
   },
   "labels_anchors": false,
   "latex_user_defs": false,
   "report_style_numbering": false,
   "user_envs_cfg": false
  }
 },
 "nbformat": 4,
 "nbformat_minor": 2
}
